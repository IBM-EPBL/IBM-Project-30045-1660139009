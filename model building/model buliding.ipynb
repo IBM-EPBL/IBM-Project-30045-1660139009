{
 "cells": [
  {
   "cell_type": "code",
   "execution_count": 1,
   "id": "563b8599",
   "metadata": {},
   "outputs": [],
   "source": [
    "from tensorflow.keras.layers import Dense, Flatten, Input\n",
    "from tensorflow.keras.models import Model\n",
    "from tensorflow.keras.preprocessing import image\n",
    "from tensorflow.keras.preprocessing.image import ImageDataGenerator, load_img\n",
    "from tensorflow.keras.applications.vgg16 import VGG16, preprocess_input\n"
   ]
  },
  {
   "cell_type": "code",
   "execution_count": 2,
   "id": "468b4b8b",
   "metadata": {},
   "outputs": [],
   "source": [
    "from glob import glob\n",
    "import numpy as np\n",
    "import matplotlib.pyplot as plt"
   ]
  },
  {
   "cell_type": "code",
   "execution_count": 3,
   "id": "1801bb7f",
   "metadata": {},
   "outputs": [],
   "source": [
    "imageSize=[224,224]"
   ]
  },
  {
   "cell_type": "code",
   "execution_count": 4,
   "id": "9524231a",
   "metadata": {},
   "outputs": [],
   "source": [
    "trainPath=\"C:/Users/shara/OneDrive/Desktop/ibm project/Dataset/level/training\"\n",
    "testPath=\"C:/Users/shara/OneDrive/Desktop/ibm project/Dataset/level/validation\""
   ]
  },
  {
   "cell_type": "code",
   "execution_count": 5,
   "id": "fdad05d1",
   "metadata": {},
   "outputs": [],
   "source": [
    "vgg = VGG16(input_shape=imageSize + [3], weights='imagenet',include_top=False)"
   ]
  },
  {
   "cell_type": "code",
   "execution_count": 6,
   "id": "75aac6f4",
   "metadata": {},
   "outputs": [
    {
     "name": "stdout",
     "output_type": "stream",
     "text": [
      "Model: \"model\"\n",
      "_________________________________________________________________\n",
      " Layer (type)                Output Shape              Param #   \n",
      "=================================================================\n",
      " input_1 (InputLayer)        [(None, 224, 224, 3)]     0         \n",
      "                                                                 \n",
      " block1_conv1 (Conv2D)       (None, 224, 224, 64)      1792      \n",
      "                                                                 \n",
      " block1_conv2 (Conv2D)       (None, 224, 224, 64)      36928     \n",
      "                                                                 \n",
      " block1_pool (MaxPooling2D)  (None, 112, 112, 64)      0         \n",
      "                                                                 \n",
      " block2_conv1 (Conv2D)       (None, 112, 112, 128)     73856     \n",
      "                                                                 \n",
      " block2_conv2 (Conv2D)       (None, 112, 112, 128)     147584    \n",
      "                                                                 \n",
      " block2_pool (MaxPooling2D)  (None, 56, 56, 128)       0         \n",
      "                                                                 \n",
      " block3_conv1 (Conv2D)       (None, 56, 56, 256)       295168    \n",
      "                                                                 \n",
      " block3_conv2 (Conv2D)       (None, 56, 56, 256)       590080    \n",
      "                                                                 \n",
      " block3_conv3 (Conv2D)       (None, 56, 56, 256)       590080    \n",
      "                                                                 \n",
      " block3_pool (MaxPooling2D)  (None, 28, 28, 256)       0         \n",
      "                                                                 \n",
      " block4_conv1 (Conv2D)       (None, 28, 28, 512)       1180160   \n",
      "                                                                 \n",
      " block4_conv2 (Conv2D)       (None, 28, 28, 512)       2359808   \n",
      "                                                                 \n",
      " block4_conv3 (Conv2D)       (None, 28, 28, 512)       2359808   \n",
      "                                                                 \n",
      " block4_pool (MaxPooling2D)  (None, 14, 14, 512)       0         \n",
      "                                                                 \n",
      " block5_conv1 (Conv2D)       (None, 14, 14, 512)       2359808   \n",
      "                                                                 \n",
      " block5_conv2 (Conv2D)       (None, 14, 14, 512)       2359808   \n",
      "                                                                 \n",
      " block5_conv3 (Conv2D)       (None, 14, 14, 512)       2359808   \n",
      "                                                                 \n",
      " block5_pool (MaxPooling2D)  (None, 7, 7, 512)         0         \n",
      "                                                                 \n",
      " flatten (Flatten)           (None, 25088)             0         \n",
      "                                                                 \n",
      " dense (Dense)               (None, 3)                 75267     \n",
      "                                                                 \n",
      "=================================================================\n",
      "Total params: 14,789,955\n",
      "Trainable params: 75,267\n",
      "Non-trainable params: 14,714,688\n",
      "_________________________________________________________________\n"
     ]
    },
    {
     "ename": "NameError",
     "evalue": "name '__________________' is not defined",
     "output_type": "error",
     "traceback": [
      "\u001b[1;31m---------------------------------------------------------------------------\u001b[0m",
      "\u001b[1;31mNameError\u001b[0m                                 Traceback (most recent call last)",
      "\u001b[1;32m~\\AppData\\Local\\Temp\\ipykernel_15944\\483586959.py\u001b[0m in \u001b[0;36m<module>\u001b[1;34m\u001b[0m\n\u001b[0;32m      9\u001b[0m \u001b[0mmodel\u001b[0m\u001b[1;33m.\u001b[0m\u001b[0msummary\u001b[0m\u001b[1;33m(\u001b[0m\u001b[1;33m)\u001b[0m\u001b[1;33m\u001b[0m\u001b[1;33m\u001b[0m\u001b[0m\n\u001b[0;32m     10\u001b[0m \u001b[0mModel\u001b[0m\u001b[1;33m:\u001b[0m \u001b[1;34m\"model\"\u001b[0m\u001b[1;33m\u001b[0m\u001b[1;33m\u001b[0m\u001b[0m\n\u001b[1;32m---> 11\u001b[1;33m \u001b[0m__________________\u001b[0m\u001b[1;33m\u001b[0m\u001b[1;33m\u001b[0m\u001b[0m\n\u001b[0m",
      "\u001b[1;31mNameError\u001b[0m: name '__________________' is not defined"
     ]
    }
   ],
   "source": [
    "for layer in vgg.layers:\n",
    "    layer.trainable = False\n",
    "# our layers - you can add more if you want\n",
    "x = Flatten()(vgg.output)\n",
    "prediction = Dense(3, activation='softmax')(x)\n",
    "# create a model object\n",
    "model = Model(inputs=vgg.input, outputs=prediction)\n",
    "# view the structure of the model\n",
    "model.summary()\n",
    "Model: \"model\""
   ]
  },
  {
   "cell_type": "code",
   "execution_count": 7,
   "id": "8174e555",
   "metadata": {},
   "outputs": [],
   "source": [
    "model.compile(\n",
    "  loss='categorical_crossentropy',\n",
    "  optimizer='adam',\n",
    "  metrics=['accuracy']\n",
    ")"
   ]
  },
  {
   "cell_type": "code",
   "execution_count": 8,
   "id": "29671fcf",
   "metadata": {},
   "outputs": [
    {
     "name": "stdout",
     "output_type": "stream",
     "text": [
      "Found 979 images belonging to 3 classes.\n",
      "Found 171 images belonging to 3 classes.\n"
     ]
    }
   ],
   "source": [
    "train_datagen = ImageDataGenerator(rescale = 1./255,\n",
    "                                   shear_range = 0.2,\n",
    "                                   zoom_range = 0.2,\n",
    "                                   horizontal_flip = True)\n",
    "\n",
    "test_datagen = ImageDataGenerator(rescale = 1./255)\n",
    "training_set = train_datagen.flow_from_directory(trainPath,\n",
    "                                                 target_size = (224, 224),\n",
    "                                                 batch_size = 10,\n",
    "                                                 class_mode = 'categorical')\n",
    "\n",
    "test_set = test_datagen.flow_from_directory(testPath,\n",
    "                                            target_size = (224, 224),\n",
    "                                            batch_size = 10,\n",
    "                                            class_mode = 'categorical')"
   ]
  },
  {
   "cell_type": "code",
   "execution_count": 9,
   "id": "6aca7186",
   "metadata": {},
   "outputs": [],
   "source": [
    "train_datagen=ImageDataGenerator (rescale=1./255, shear_range=0.2,zoom_range=0.2,horizontal_flip=True) \n",
    "test_datagen=ImageDataGenerator(rescale=1./255)"
   ]
  },
  {
   "cell_type": "code",
   "execution_count": 10,
   "id": "e4551613",
   "metadata": {},
   "outputs": [
    {
     "name": "stdout",
     "output_type": "stream",
     "text": [
      "Found 979 images belonging to 3 classes.\n",
      "Found 171 images belonging to 3 classes.\n"
     ]
    }
   ],
   "source": [
    "x_train=train_datagen.flow_from_directory(trainPath,target_size=(224,224),batch_size=10,class_mode='categorical')\n",
    "x_test=train_datagen.flow_from_directory(testPath,target_size=(224,224),batch_size=10,class_mode='categorical')"
   ]
  },
  {
   "cell_type": "code",
   "execution_count": 11,
   "id": "185de7ef",
   "metadata": {},
   "outputs": [],
   "source": [
    "import sys\n"
   ]
  },
  {
   "cell_type": "code",
   "execution_count": 12,
   "id": "5050acf5",
   "metadata": {},
   "outputs": [
    {
     "name": "stderr",
     "output_type": "stream",
     "text": [
      "C:\\Users\\shara\\AppData\\Local\\Temp\\ipykernel_15944\\3282110841.py:1: UserWarning: `Model.fit_generator` is deprecated and will be removed in a future version. Please use `Model.fit`, which supports generators.\n",
      "  r = model.fit_generator(\n"
     ]
    },
    {
     "name": "stdout",
     "output_type": "stream",
     "text": [
      "Epoch 1/10\n",
      "97/97 [==============================] - 164s 2s/step - loss: 1.2431 - accuracy: 0.5366 - val_loss: 0.9212 - val_accuracy: 0.6235\n",
      "Epoch 2/10\n",
      "97/97 [==============================] - 163s 2s/step - loss: 0.8980 - accuracy: 0.6739 - val_loss: 1.0261 - val_accuracy: 0.6353\n",
      "Epoch 3/10\n",
      "97/97 [==============================] - 157s 2s/step - loss: 0.6934 - accuracy: 0.7358 - val_loss: 1.2036 - val_accuracy: 0.6412\n",
      "Epoch 4/10\n",
      "97/97 [==============================] - 131s 1s/step - loss: 0.5116 - accuracy: 0.8008 - val_loss: 1.3364 - val_accuracy: 0.6000\n",
      "Epoch 5/10\n",
      "97/97 [==============================] - 132s 1s/step - loss: 0.4767 - accuracy: 0.8111 - val_loss: 1.1804 - val_accuracy: 0.6059\n",
      "Epoch 6/10\n",
      "97/97 [==============================] - 132s 1s/step - loss: 0.4254 - accuracy: 0.8452 - val_loss: 1.3187 - val_accuracy: 0.5882\n",
      "Epoch 7/10\n",
      "97/97 [==============================] - 133s 1s/step - loss: 0.3267 - accuracy: 0.8731 - val_loss: 1.2679 - val_accuracy: 0.5588\n",
      "Epoch 8/10\n",
      "97/97 [==============================] - 133s 1s/step - loss: 0.3149 - accuracy: 0.8834 - val_loss: 1.2174 - val_accuracy: 0.5941\n",
      "Epoch 9/10\n",
      "97/97 [==============================] - 134s 1s/step - loss: 0.2318 - accuracy: 0.9133 - val_loss: 1.0630 - val_accuracy: 0.6412\n",
      "Epoch 10/10\n",
      "97/97 [==============================] - 136s 1s/step - loss: 0.1848 - accuracy: 0.9267 - val_loss: 1.1719 - val_accuracy: 0.6588\n"
     ]
    }
   ],
   "source": [
    "r = model.fit_generator(\n",
    "  training_set,\n",
    "  validation_data=test_set,\n",
    "  epochs=10,\n",
    "  steps_per_epoch=979//10,\n",
    "  validation_steps=171//10)"
   ]
  },
  {
   "cell_type": "code",
   "execution_count": 13,
   "id": "75964f2f",
   "metadata": {},
   "outputs": [],
   "source": [
    "model.save('body.h5')\n"
   ]
  },
  {
   "cell_type": "code",
   "execution_count": 14,
   "id": "077f4325",
   "metadata": {},
   "outputs": [],
   "source": [
    "from tensorflow.keras.models import load_model\n",
    "from tensorflow.keras.preprocessing import image\n",
    "from tensorflow.keras.applications.inception_v3 import preprocess_input\n",
    "import numpy as np"
   ]
  },
  {
   "cell_type": "code",
   "execution_count": 15,
   "id": "759d8070",
   "metadata": {},
   "outputs": [
    {
     "name": "stdout",
     "output_type": "stream",
     "text": [
      "1/1 [==============================] - 0s 484ms/step\n"
     ]
    },
    {
     "data": {
      "text/plain": [
       "array([[1.0315747e-05, 6.3827865e-05, 9.9992585e-01]], dtype=float32)"
      ]
     },
     "execution_count": 15,
     "metadata": {},
     "output_type": "execute_result"
    }
   ],
   "source": [
    "img=image.load_img(\"C:/Users/shara/OneDrive/Desktop/ibm project/Dataset/body/training/00-front/0002.jpeg\",target_size=(224,224))\n",
    "x=image.img_to_array(img)\n",
    "import numpy as np\n",
    "x=np.expand_dims(x,axis=0)\n",
    "img_data=preprocess_input(x)\n",
    "img_data.shape\n",
    "(1, 224, 224, 3)\n",
    "img_data.shape\n",
    "(1, 224, 224, 3)\n",
    "model.predict(img_data)\n",
    "\n"
   ]
  },
  {
   "cell_type": "code",
   "execution_count": 16,
   "id": "867274b7",
   "metadata": {},
   "outputs": [
    {
     "name": "stdout",
     "output_type": "stream",
     "text": [
      "1/1 [==============================] - 0s 156ms/step\n"
     ]
    },
    {
     "data": {
      "text/plain": [
       "array([2], dtype=int64)"
      ]
     },
     "execution_count": 16,
     "metadata": {},
     "output_type": "execute_result"
    }
   ],
   "source": [
    "\n",
    "output=np.argmax(model.predict(img_data), axis=1)\n",
    "output\n",
    "\n"
   ]
  },
  {
   "cell_type": "code",
   "execution_count": 18,
   "id": "c7622f9f",
   "metadata": {},
   "outputs": [],
   "source": [
    "\n",
    "imageSize = [224, 224]\n",
    "trainPath=\"C:/Users/shara/OneDrive/Desktop/ibm project/Dataset/level/training\"\n",
    "testPath=\"C:/Users/shara/OneDrive/Desktop/ibm project/Dataset/level/validation\"\n",
    "vgg1 = VGG16(input_shape=imageSize + [3], weights='imagenet',include_top=False)\n",
    "for layer in vgg1.layers:\n",
    "  layer.trainable = False\n",
    "# our layers - you can add more if you want\n",
    "x = Flatten()(vgg1.output)\n",
    "prediction = Dense(3, activation='softmax')(x)\n",
    "# create a model object\n",
    "model1 = Model(inputs=vgg1.input, outputs=prediction)\n",
    "# tell the model what cost and optimization method to use\n",
    "model1.compile(\n",
    "  loss='categorical_crossentropy',\n",
    "  optimizer='adam',\n",
    "  metrics=['accuracy']\n",
    ")"
   ]
  },
  {
   "cell_type": "code",
   "execution_count": 19,
   "id": "e13a65d1",
   "metadata": {},
   "outputs": [
    {
     "name": "stdout",
     "output_type": "stream",
     "text": [
      "Found 979 images belonging to 3 classes.\n",
      "Found 171 images belonging to 3 classes.\n"
     ]
    }
   ],
   "source": [
    "train_datagen = ImageDataGenerator(rescale = 1./255,\n",
    "                                   shear_range = 0.2,\n",
    "                                   zoom_range = 0.2,\n",
    "                                   horizontal_flip = True)\n",
    "\n",
    "test_datagen = ImageDataGenerator(rescale = 1./255)\n",
    "training_set = train_datagen.flow_from_directory(trainPath,\n",
    "                                                 target_size = (224, 224),\n",
    "                                                 batch_size = 10,\n",
    "                                                 class_mode = 'categorical')\n",
    "\n",
    "test_set = test_datagen.flow_from_directory(testPath,\n",
    "                                            target_size = (224, 224),\n",
    "                                            batch_size = 10,\n",
    "                                            class_mode = 'categorical')"
   ]
  },
  {
   "cell_type": "code",
   "execution_count": 20,
   "id": "78291aa5",
   "metadata": {},
   "outputs": [
    {
     "name": "stdout",
     "output_type": "stream",
     "text": [
      "Epoch 1/10\n"
     ]
    },
    {
     "name": "stderr",
     "output_type": "stream",
     "text": [
      "C:\\Users\\shara\\AppData\\Local\\Temp\\ipykernel_15944\\1905058354.py:1: UserWarning: `Model.fit_generator` is deprecated and will be removed in a future version. Please use `Model.fit`, which supports generators.\n",
      "  r = model1.fit_generator(\n"
     ]
    },
    {
     "name": "stdout",
     "output_type": "stream",
     "text": [
      "97/97 [==============================] - 131s 1s/step - loss: 1.1835 - accuracy: 0.5697 - val_loss: 0.9897 - val_accuracy: 0.5882\n",
      "Epoch 2/10\n",
      "97/97 [==============================] - 135s 1s/step - loss: 0.7726 - accuracy: 0.7100 - val_loss: 1.5372 - val_accuracy: 0.5529\n",
      "Epoch 3/10\n",
      "97/97 [==============================] - 145s 1s/step - loss: 0.6022 - accuracy: 0.7678 - val_loss: 1.2743 - val_accuracy: 0.5647\n",
      "Epoch 4/10\n",
      "97/97 [==============================] - 145s 1s/step - loss: 0.4612 - accuracy: 0.8132 - val_loss: 0.9583 - val_accuracy: 0.6118\n",
      "Epoch 5/10\n",
      "97/97 [==============================] - 140s 1s/step - loss: 0.3337 - accuracy: 0.8803 - val_loss: 1.0911 - val_accuracy: 0.6059\n",
      "Epoch 6/10\n",
      "97/97 [==============================] - 134s 1s/step - loss: 0.4234 - accuracy: 0.8411 - val_loss: 1.2719 - val_accuracy: 0.5941\n",
      "Epoch 7/10\n",
      "97/97 [==============================] - 133s 1s/step - loss: 0.3067 - accuracy: 0.8751 - val_loss: 1.1803 - val_accuracy: 0.5765\n",
      "Epoch 8/10\n",
      "97/97 [==============================] - 134s 1s/step - loss: 0.2252 - accuracy: 0.9143 - val_loss: 1.1949 - val_accuracy: 0.5765\n",
      "Epoch 9/10\n",
      "97/97 [==============================] - 133s 1s/step - loss: 0.2149 - accuracy: 0.9154 - val_loss: 1.3999 - val_accuracy: 0.6059\n",
      "Epoch 10/10\n",
      "97/97 [==============================] - 133s 1s/step - loss: 0.2183 - accuracy: 0.9216 - val_loss: 1.3758 - val_accuracy: 0.6000\n"
     ]
    }
   ],
   "source": [
    "r = model1.fit_generator(\n",
    "  training_set,\n",
    "  validation_data=test_set,\n",
    "  epochs=10,\n",
    "  steps_per_epoch=979//10,\n",
    "  validation_steps=171//10)"
   ]
  },
  {
   "cell_type": "code",
   "execution_count": 21,
   "id": "f583653e",
   "metadata": {},
   "outputs": [],
   "source": [
    "model.save(\"level.h5\")"
   ]
  },
  {
   "cell_type": "code",
   "execution_count": null,
   "id": "6f295441",
   "metadata": {},
   "outputs": [],
   "source": []
  }
 ],
 "metadata": {
  "kernelspec": {
   "display_name": "Python 3 (ipykernel)",
   "language": "python",
   "name": "python3"
  },
  "language_info": {
   "codemirror_mode": {
    "name": "ipython",
    "version": 3
   },
   "file_extension": ".py",
   "mimetype": "text/x-python",
   "name": "python",
   "nbconvert_exporter": "python",
   "pygments_lexer": "ipython3",
   "version": "3.9.13"
  }
 },
 "nbformat": 4,
 "nbformat_minor": 5
}
