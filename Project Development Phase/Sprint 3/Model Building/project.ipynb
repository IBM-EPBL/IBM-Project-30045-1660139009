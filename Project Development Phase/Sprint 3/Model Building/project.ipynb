{
 "cells": [
  {
   "cell_type": "code",
   "execution_count": 1,
   "id": "161352b3",
   "metadata": {},
   "outputs": [],
   "source": [
    "from keras.preprocessing.image import ImageDataGenerator"
   ]
  },
  {
   "cell_type": "code",
   "execution_count": 2,
   "id": "7ba5f681",
   "metadata": {},
   "outputs": [],
   "source": [
    "train_datagen=ImageDataGenerator(rescale=1/.255,shear_range=0.2,zoom_range=0.2,horizontal_flip=True)\n",
    "test_datagen=ImageDataGenerator(rescale=1/.255)"
   ]
  },
  {
   "cell_type": "code",
   "execution_count": 4,
   "id": "59414b6d",
   "metadata": {},
   "outputs": [
    {
     "name": "stdout",
     "output_type": "stream",
     "text": [
      "Found 979 images belonging to 3 classes.\n",
      "Found 171 images belonging to 3 classes.\n"
     ]
    }
   ],
   "source": [
    "x_train=train_datagen.flow_from_directory(\"C:/Users/shara/OneDrive/Desktop/pc/ibm project/Dataset/body/training\",target_size=(224,224),batch_size=10,class_mode=\"categorical\")\n",
    "x_test=test_datagen.flow_from_directory(\"C:/Users/shara/OneDrive/Desktop/pc/ibm project/Dataset/body/validation\",target_size=(224,224),batch_size=10,class_mode=\"categorical\")"
   ]
  },
  {
   "cell_type": "code",
   "execution_count": 3,
   "id": "c07cd33b",
   "metadata": {},
   "outputs": [
    {
     "name": "stdout",
     "output_type": "stream",
     "text": [
      "Found 979 images belonging to 3 classes.\n",
      "Found 171 images belonging to 3 classes.\n"
     ]
    }
   ],
   "source": [
    "x_train=train_datagen.flow_from_directory(\"C:/Users/shara/OneDrive/Desktop/pc/ibm project/Dataset/level/training\",target_size=(224,224),batch_size=10,class_mode=\"categorical\")\n",
    "x_test=test_datagen.flow_from_directory(\"C:/Users/shara/OneDrive/Desktop/pc/ibm project/Dataset/level/validation\",target_size=(224,224),batch_size=10,class_mode=\"categorical\")"
   ]
  },
  {
   "cell_type": "code",
   "execution_count": 4,
   "id": "e0f95414",
   "metadata": {},
   "outputs": [],
   "source": [
    "from tensorflow.keras.layers import Dense,Flatten,Input\n",
    "from tensorflow.keras.models import Model\n",
    "from tensorflow.keras.preprocessing import image\n",
    "from tensorflow.keras.preprocessing.image import ImageDataGenerator,load_img\n",
    "from tensorflow.keras.applications.vgg16 import VGG16,preprocess_input\n",
    "from glob import glob\n",
    "import numpy as np\n",
    "import matplotlib.pyplot as plt\n"
   ]
  },
  {
   "cell_type": "code",
   "execution_count": 5,
   "id": "05757438",
   "metadata": {},
   "outputs": [],
   "source": [
    "imageSize=[224,224]"
   ]
  },
  {
   "cell_type": "code",
   "execution_count": 6,
   "id": "ad6a7181",
   "metadata": {},
   "outputs": [],
   "source": [
    "vgg= VGG16(input_shape=imageSize+[3],weights=\"imagenet\",include_top=False)"
   ]
  },
  {
   "cell_type": "code",
   "execution_count": 7,
   "id": "e1031298",
   "metadata": {},
   "outputs": [],
   "source": [
    "for layer in vgg.layers:\n",
    "    layer.trainable=False\n",
    "    \n"
   ]
  },
  {
   "cell_type": "code",
   "execution_count": 8,
   "id": "6f55a8f5",
   "metadata": {},
   "outputs": [],
   "source": [
    "x=Flatten()(vgg.output)"
   ]
  },
  {
   "cell_type": "code",
   "execution_count": 9,
   "id": "33c9ef4c",
   "metadata": {},
   "outputs": [],
   "source": [
    "prediction =Dense(3,activation=\"softmax\")(x)"
   ]
  },
  {
   "cell_type": "code",
   "execution_count": 10,
   "id": "fe0c672f",
   "metadata": {},
   "outputs": [],
   "source": [
    "model=Model(inputs=vgg.input,outputs=prediction)"
   ]
  },
  {
   "cell_type": "code",
   "execution_count": 11,
   "id": "a33939ae",
   "metadata": {},
   "outputs": [
    {
     "name": "stdout",
     "output_type": "stream",
     "text": [
      "Model: \"model\"\n",
      "_________________________________________________________________\n",
      " Layer (type)                Output Shape              Param #   \n",
      "=================================================================\n",
      " input_1 (InputLayer)        [(None, 224, 224, 3)]     0         \n",
      "                                                                 \n",
      " block1_conv1 (Conv2D)       (None, 224, 224, 64)      1792      \n",
      "                                                                 \n",
      " block1_conv2 (Conv2D)       (None, 224, 224, 64)      36928     \n",
      "                                                                 \n",
      " block1_pool (MaxPooling2D)  (None, 112, 112, 64)      0         \n",
      "                                                                 \n",
      " block2_conv1 (Conv2D)       (None, 112, 112, 128)     73856     \n",
      "                                                                 \n",
      " block2_conv2 (Conv2D)       (None, 112, 112, 128)     147584    \n",
      "                                                                 \n",
      " block2_pool (MaxPooling2D)  (None, 56, 56, 128)       0         \n",
      "                                                                 \n",
      " block3_conv1 (Conv2D)       (None, 56, 56, 256)       295168    \n",
      "                                                                 \n",
      " block3_conv2 (Conv2D)       (None, 56, 56, 256)       590080    \n",
      "                                                                 \n",
      " block3_conv3 (Conv2D)       (None, 56, 56, 256)       590080    \n",
      "                                                                 \n",
      " block3_pool (MaxPooling2D)  (None, 28, 28, 256)       0         \n",
      "                                                                 \n",
      " block4_conv1 (Conv2D)       (None, 28, 28, 512)       1180160   \n",
      "                                                                 \n",
      " block4_conv2 (Conv2D)       (None, 28, 28, 512)       2359808   \n",
      "                                                                 \n",
      " block4_conv3 (Conv2D)       (None, 28, 28, 512)       2359808   \n",
      "                                                                 \n",
      " block4_pool (MaxPooling2D)  (None, 14, 14, 512)       0         \n",
      "                                                                 \n",
      " block5_conv1 (Conv2D)       (None, 14, 14, 512)       2359808   \n",
      "                                                                 \n",
      " block5_conv2 (Conv2D)       (None, 14, 14, 512)       2359808   \n",
      "                                                                 \n",
      " block5_conv3 (Conv2D)       (None, 14, 14, 512)       2359808   \n",
      "                                                                 \n",
      " block5_pool (MaxPooling2D)  (None, 7, 7, 512)         0         \n",
      "                                                                 \n",
      " flatten (Flatten)           (None, 25088)             0         \n",
      "                                                                 \n",
      " dense (Dense)               (None, 3)                 75267     \n",
      "                                                                 \n",
      "=================================================================\n",
      "Total params: 14,789,955\n",
      "Trainable params: 75,267\n",
      "Non-trainable params: 14,714,688\n",
      "_________________________________________________________________\n"
     ]
    }
   ],
   "source": [
    "model.summary()"
   ]
  },
  {
   "cell_type": "code",
   "execution_count": 12,
   "id": "ccb6dcc2",
   "metadata": {},
   "outputs": [],
   "source": [
    "model.compile(loss='categorical_crossentropy',optimizer=\"adam\",metrics=['acc'])"
   ]
  },
  {
   "cell_type": "code",
   "execution_count": 13,
   "id": "9636b091",
   "metadata": {},
   "outputs": [
    {
     "name": "stderr",
     "output_type": "stream",
     "text": [
      "C:\\Users\\shara\\AppData\\Local\\Temp\\ipykernel_9876\\901438359.py:2: UserWarning: `Model.fit_generator` is deprecated and will be removed in a future version. Please use `Model.fit`, which supports generators.\n",
      "  r=model.fit_generator(x_train,validation_data=x_test,epochs=10,steps_per_epoch=979//10,validation_steps=171//10)\n"
     ]
    },
    {
     "name": "stdout",
     "output_type": "stream",
     "text": [
      "Epoch 1/10\n",
      "97/97 [==============================] - 385s 4s/step - loss: 78.9176 - acc: 0.5408 - val_loss: 79.5387 - val_acc: 0.5765\n",
      "Epoch 2/10\n",
      "97/97 [==============================] - 167s 2s/step - loss: 55.4986 - acc: 0.7038 - val_loss: 95.6995 - val_acc: 0.6059\n",
      "Epoch 3/10\n",
      "97/97 [==============================] - 150s 2s/step - loss: 43.6995 - acc: 0.7792 - val_loss: 92.7793 - val_acc: 0.6471\n",
      "Epoch 4/10\n",
      "97/97 [==============================] - 191s 2s/step - loss: 28.5603 - acc: 0.8369 - val_loss: 130.3971 - val_acc: 0.5941\n",
      "Epoch 5/10\n",
      "97/97 [==============================] - 395s 4s/step - loss: 32.7134 - acc: 0.8442 - val_loss: 127.8051 - val_acc: 0.6059\n",
      "Epoch 6/10\n",
      "97/97 [==============================] - 192s 2s/step - loss: 23.7323 - acc: 0.8617 - val_loss: 141.9031 - val_acc: 0.6235\n",
      "Epoch 7/10\n",
      "97/97 [==============================] - 148s 2s/step - loss: 20.5681 - acc: 0.8875 - val_loss: 129.6707 - val_acc: 0.6529\n",
      "Epoch 8/10\n",
      "97/97 [==============================] - 149s 2s/step - loss: 18.4018 - acc: 0.9030 - val_loss: 128.1770 - val_acc: 0.6059\n",
      "Epoch 9/10\n",
      "97/97 [==============================] - 373s 4s/step - loss: 22.3767 - acc: 0.8896 - val_loss: 213.3302 - val_acc: 0.5706\n",
      "Epoch 10/10\n",
      "97/97 [==============================] - 203s 2s/step - loss: 23.1012 - acc: 0.9009 - val_loss: 166.1277 - val_acc: 0.5941\n"
     ]
    }
   ],
   "source": [
    "import sys\n",
    "r=model.fit_generator(x_train,validation_data=x_test,epochs=10,steps_per_epoch=979//10,validation_steps=171//10)"
   ]
  },
  {
   "cell_type": "code",
   "execution_count": 14,
   "id": "1850deee",
   "metadata": {},
   "outputs": [],
   "source": [
    "model.save('level.h5')"
   ]
  },
  {
   "cell_type": "code",
   "execution_count": 1,
   "id": "50b71e22",
   "metadata": {},
   "outputs": [],
   "source": [
    "from tensorflow.keras.models import load_model\n",
    "import cv2\n",
    "from skimage.transform import resize\n",
    "import numpy as np"
   ]
  },
  {
   "cell_type": "code",
   "execution_count": 2,
   "id": "369ca4bc",
   "metadata": {},
   "outputs": [],
   "source": [
    "model1=load_model('body.h5')\n",
    "model2=load_model('level.h5')"
   ]
  },
  {
   "cell_type": "code",
   "execution_count": 9,
   "id": "c8cf5337",
   "metadata": {},
   "outputs": [],
   "source": [
    "def detect1(frame):\n",
    "    img=cv2.resize(frame,(224,224))\n",
    "    img=cv2.cvtColor(img,cv2.COLOR_BGR2RGB)\n",
    "    if(np.max(img)>1):\n",
    "        img=img/255.0\n",
    "    img=np.array([img])\n",
    "    prediction=model1(img)\n",
    "    print(prediction)\n",
    "    label=[\"front\",\"rear\",\"side\"]\n",
    "    preds=label[np.argmax(prediction)]\n",
    "    return preds"
   ]
  },
  {
   "cell_type": "code",
   "execution_count": 10,
   "id": "9b9b2655",
   "metadata": {},
   "outputs": [],
   "source": [
    "def detect2(frame):\n",
    "    img=cv2.resize(frame,(224,224))\n",
    "    img=cv2.cvtColor(img,cv2.COLOR_BGR2RGB)\n",
    "    if(np.max(img)>1):\n",
    "        img=img/255.0\n",
    "    img=np.array([img])\n",
    "    prediction=model2(img)\n",
    "    label=[\"minor\",\"moderate\",\"severe\"]\n",
    "    preds=label[np.argmax(prediction)]\n",
    "    return preds"
   ]
  },
  {
   "cell_type": "code",
   "execution_count": 13,
   "id": "28d6c0c2",
   "metadata": {},
   "outputs": [
    {
     "name": "stdout",
     "output_type": "stream",
     "text": [
      "tf.Tensor([[3.3851981e-01 1.9293459e-05 6.6146088e-01]], shape=(1, 3), dtype=float32)\n",
      "side\n",
      "minor\n"
     ]
    }
   ],
   "source": [
    "data=\"C:/Users/shara/OneDrive/Desktop/pc/ibm project/Dataset/level/training/01-minor/0007.JPEG\"\n",
    "image=cv2.imread(data)\n",
    "print(detect1(image))\n",
    "print(detect2(image))"
   ]
  },
  {
   "cell_type": "code",
   "execution_count": 14,
   "id": "76b9f7ea",
   "metadata": {},
   "outputs": [],
   "source": [
    "import re \n",
    "import numpy as np\n",
    "import os\n",
    "from flask import Flask, app,request,render_template\n",
    "from tensorflow.keras import models\n",
    "from tensorflow.keras.models import load_model\n",
    "from tensorflow.keras.preprocessing import image\n",
    "from tensorflow.python.ops.gen_array_ops import concat\n",
    "from tensorflow.keras.applications.inception_v3 import preprocess_input\n",
    "import requests\n",
    "from flask import Flask,request,render_template,redirect,url_for\n",
    "from cloudant.client import Cloudant"
   ]
  },
  {
   "cell_type": "code",
   "execution_count": null,
   "id": "bf65c202",
   "metadata": {},
   "outputs": [],
   "source": [
    "client = Cloudant.iam(\"48b309ee-528e-4ac3-bb4d-adcf2b863882-bluemix\",\"_i0fpz1gN-ngDO9UG-02mhz6d3MJCuZ-VS4kgkjMziB9\",connect=True)"
   ]
  },
  {
   "cell_type": "code",
   "execution_count": null,
   "id": "3183c970",
   "metadata": {},
   "outputs": [],
   "source": [
    "my_database=client.create_database(\"my_database\")"
   ]
  },
  {
   "cell_type": "code",
   "execution_count": null,
   "id": "badcbb85",
   "metadata": {},
   "outputs": [],
   "source": [
    "model1=load_model(\"level.h5\")\n",
    "model2=load_model(\"body.h5\")"
   ]
  },
  {
   "cell_type": "code",
   "execution_count": null,
   "id": "f7f6f568",
   "metadata": {},
   "outputs": [],
   "source": [
    "app=Flask(__name__)\n",
    "@app.route('/')\n",
    "def index():\n",
    "    return render_template('index.html')"
   ]
  },
  {
   "cell_type": "code",
   "execution_count": null,
   "id": "6bbcad5b",
   "metadata": {},
   "outputs": [],
   "source": [
    "@app.route('/index.html')\n",
    "def home():\n",
    "    return render_template('index.html')"
   ]
  },
  {
   "cell_type": "code",
   "execution_count": null,
   "id": "88c1cfe6",
   "metadata": {},
   "outputs": [],
   "source": [
    "@app.route('/register')\n",
    "def register():\n",
    "    return render_template('register.html')\n",
    "@app.route('/afterreg',methods=['POST'])\n",
    "def afterreg():\n",
    "    x=[x for x in request.form.values()]\n",
    "    print(x)\n",
    "    data={\n",
    "        '_id': x[1],\n",
    "        'name':x[0],\n",
    "        'psw':x[2],\n",
    "    }\n",
    "    print(data)\n",
    "    \n",
    "    query = {'_id':{'$eq': data['_id']}}\n",
    "    docs = my_database.get_query_result(query)\n",
    "    print(docs)\n",
    "    \n",
    "    print(len(docs.all()))\n",
    "    if (len(docs.all())==0):\n",
    "        url = my_database.create_document(data)\n",
    "        return render_template('register.html',pred=\"Registration Successful, please login using your details\")\n",
    "    else:\n",
    "         return render_template('register.html',pred=\"You are already a member, please login using your details\")\n",
    "        \n",
    "\n",
    "\n"
   ]
  },
  {
   "cell_type": "code",
   "execution_count": null,
   "id": "046671fe",
   "metadata": {},
   "outputs": [],
   "source": [
    "@app.route('/Login')\n",
    "def login():\n",
    "    return render_template('Login.html')\n",
    "@app.route('/afterLogin',methods=['POST'])\n",
    "def afterlogin():\n",
    "    user = request.form['_id']\n",
    "    passw=request.form['psw']\n",
    "    print(user,passw)\n",
    "    \n",
    "    query = {'_id':{'$eq': user}}\n",
    "    docs = my_database.get_query_result(query)\n",
    "    print(docs)\n",
    "    \n",
    "    print(len(docs.all()))\n",
    "    if (len(docs.all())==0):\n",
    "        return render_template('Login.html',pred=\"The username is not found.\")\n",
    "    else:\n",
    "         if((user==docs[0][0]['_id'] and passw==docs[0][0]['psw'])):\n",
    "            return redirect(url_for('prediction'))\n",
    "         else:\n",
    "            print('Invalid User')\n",
    "        \n",
    "\n",
    "\n"
   ]
  },
  {
   "cell_type": "code",
   "execution_count": null,
   "id": "5aba1cd6",
   "metadata": {},
   "outputs": [],
   "source": [
    "@app.route('/logout')\n",
    "def logout():\n",
    "    return render_template('logout.html')"
   ]
  },
  {
   "cell_type": "code",
   "execution_count": null,
   "id": "070c80e1",
   "metadata": {},
   "outputs": [],
   "source": [
    "@app.route('/prediction')\n",
    "def prediction():\n",
    "    return render_template('prediction.html')"
   ]
  },
  {
   "cell_type": "code",
   "execution_count": null,
   "id": "858fef3e",
   "metadata": {},
   "outputs": [],
   "source": [
    "@app.route(\"/results\",methods=[\"GET\",\"POST\"])\n",
    "def res():\n",
    "    if request.method==\"POST\":\n",
    "        f=request.files[\"image\"]\n",
    "        basepath=os.path.dirname(_file_) \n",
    "        filepath=os.path.join(basepath,'upload',f.filename)\n",
    "        f.save(filepath)\n",
    "        img=image.load_img(filepath, target_size=(256,256))\n",
    "        x=image.img_to_array(img)\n",
    "        x=np.expand_dims(x,axis=0)\n",
    "        img_data=preprocess_input(x)\n",
    "        prediction1=np.argmax(model1.predict(img_data)) \n",
    "        prediction2=np.argmax(model2.predict(ing_data))\n",
    "        index1=[\"front\",\"rear\",\"side\"]\n",
    "        index2=[\"minor\",\"moderate\",\"severe\"]\n",
    "\n",
    "        result1=index1[prediction1]\n",
    "        result2=index2[prediction2]\n",
    "        if (result1 == \"front\" and result2 == \"minor\"):\n",
    "            value = \"3000 - 5000 INR\"\n",
    "        elif (result1 == \"front\" and result2 == \"moderate\"):\n",
    "            value = \"6000 8000 INR\"\n",
    "        elif (result1 == \"front\" and result2 == \"severe\"):\n",
    "            value = \"9000 11000 INR\"\n",
    "\n",
    "        elif (result1 == \"rear\" and result2 == \"minor\"):\n",
    "            value = \"4000 - 6000 INR\"\n",
    "\n",
    "        elif (result1 == \"rear\" and result2 == \"moderate\"):\n",
    "            value = \"7000 9000 INR\"\n",
    "\n",
    "        elif (result1 == \"rear\" and result2 == \"severe\"):\n",
    "            value = \"11000 - 13000 INR\"\n",
    "\n",
    "        elif (result1 == \"side\" and result2 == \"minor\"):\n",
    "            value = \"6000 - 8000 INR\"\n",
    "\n",
    "        elif (result1 == \"side\" and result2 == \"moderate\"):\n",
    "            value = \"9000 - 11000 INR\"\n",
    "\n",
    "        elif (result1 == \"side\" and result2 == \"severe\"):\n",
    "            value = \"12000 - 15000 INR\"\n",
    "\n",
    "        else:\n",
    "            value = \"16000 - 50000 INR\"\n",
    "        return render_template('prediction.html', prediction=value)    \n",
    "if __name__ == '__main__':\n",
    "    app.run()\n",
    "   "
   ]
  },
  {
   "cell_type": "code",
   "execution_count": null,
   "id": "32009215",
   "metadata": {},
   "outputs": [],
   "source": [
    "if __name__ == '__main__':\n",
    "    app.run(debug=False,port=8080)"
   ]
  }
 ],
 "metadata": {
  "kernelspec": {
   "display_name": "Python 3 (ipykernel)",
   "language": "python",
   "name": "python3"
  },
  "language_info": {
   "codemirror_mode": {
    "name": "ipython",
    "version": 3
   },
   "file_extension": ".py",
   "mimetype": "text/x-python",
   "name": "python",
   "nbconvert_exporter": "python",
   "pygments_lexer": "ipython3",
   "version": "3.9.13"
  }
 },
 "nbformat": 4,
 "nbformat_minor": 5
}
